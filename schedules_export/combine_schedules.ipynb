{
 "cells": [
  {
   "cell_type": "markdown",
   "metadata": {},
   "source": [
    "# Revit <> Python Schedule Concatentation\n",
    "\n",
    "* This doc is an example of combining all spreadsheets from different schedules into a unified spreadsheet\n",
    "* This process is called data wrangling\n",
    "\n",
    "_bruns-ai_ (2023)"
   ]
  },
  {
   "cell_type": "code",
   "execution_count": 14,
   "metadata": {},
   "outputs": [],
   "source": [
    "import pandas as pd\n",
    "import numpy as np\n",
    "import os\n",
    "import glob "
   ]
  },
  {
   "cell_type": "markdown",
   "metadata": {},
   "source": [
    "## Load in Files"
   ]
  },
  {
   "cell_type": "code",
   "execution_count": 32,
   "metadata": {},
   "outputs": [],
   "source": [
    "directory_name = 'C:\\\\Users\\\\Shaun Gan\\\\Desktop\\\\bruns-ai\\\\revit'\n",
    "os.chdir(directory_name)"
   ]
  },
  {
   "cell_type": "code",
   "execution_count": 33,
   "metadata": {},
   "outputs": [],
   "source": [
    "modules_architectural = glob.glob(directory_name + \"\\\\Architectural\\\\Sample of CSV File\\\\*\")"
   ]
  },
  {
   "cell_type": "code",
   "execution_count": 36,
   "metadata": {},
   "outputs": [
    {
     "name": "stdout",
     "output_type": "stream",
     "text": [
      "['C:\\\\Users\\\\Shaun Gan\\\\Desktop\\\\bruns-ai\\\\revit\\\\Architectural\\\\Sample of CSV File\\\\Module A1\\\\T-BSP-ARC-OTR-ALL-A1-R00_ModDoorSchedule.csv', 'C:\\\\Users\\\\Shaun Gan\\\\Desktop\\\\bruns-ai\\\\revit\\\\Architectural\\\\Sample of CSV File\\\\Module A1\\\\T-BSP-ARC-OTR-ALL-A1-R00_ModPartMaterialTakeoff.csv', 'C:\\\\Users\\\\Shaun Gan\\\\Desktop\\\\bruns-ai\\\\revit\\\\Architectural\\\\Sample of CSV File\\\\Module A1\\\\T-BSP-ARC-OTR-ALL-A1-R00_ModWindowSchedule.csv']\n",
      "['C:\\\\Users\\\\Shaun Gan\\\\Desktop\\\\bruns-ai\\\\revit\\\\Architectural\\\\Sample of CSV File\\\\Module A10\\\\T-BSP-ARC-OTR-ALL-A10-R00_ModDoorSchedule.csv', 'C:\\\\Users\\\\Shaun Gan\\\\Desktop\\\\bruns-ai\\\\revit\\\\Architectural\\\\Sample of CSV File\\\\Module A10\\\\T-BSP-ARC-OTR-ALL-A10-R00_ModPartMaterialSchedule.csv', 'C:\\\\Users\\\\Shaun Gan\\\\Desktop\\\\bruns-ai\\\\revit\\\\Architectural\\\\Sample of CSV File\\\\Module A10\\\\T-BSP-ARC-OTR-ALL-A10-R00_ModWindowSchedule.csv']\n",
      "['C:\\\\Users\\\\Shaun Gan\\\\Desktop\\\\bruns-ai\\\\revit\\\\Architectural\\\\Sample of CSV File\\\\Module A11\\\\T-BSP-ARC-OTR-ALL-A11-R00_ModDoorSchedule.csv', 'C:\\\\Users\\\\Shaun Gan\\\\Desktop\\\\bruns-ai\\\\revit\\\\Architectural\\\\Sample of CSV File\\\\Module A11\\\\T-BSP-ARC-OTR-ALL-A11-R00_ModPartMaterialSchedule.csv', 'C:\\\\Users\\\\Shaun Gan\\\\Desktop\\\\bruns-ai\\\\revit\\\\Architectural\\\\Sample of CSV File\\\\Module A11\\\\T-BSP-ARC-OTR-ALL-A11-R00_ModPlumbingFixtSchedule.csv', 'C:\\\\Users\\\\Shaun Gan\\\\Desktop\\\\bruns-ai\\\\revit\\\\Architectural\\\\Sample of CSV File\\\\Module A11\\\\T-BSP-ARC-OTR-ALL-A11-R00_ModWindowSchedule.csv']\n",
      "['C:\\\\Users\\\\Shaun Gan\\\\Desktop\\\\bruns-ai\\\\revit\\\\Architectural\\\\Sample of CSV File\\\\Module A12\\\\T-BSP-ARC-OTR-ALL-A12-R00_ModDoorSchedule.csv', 'C:\\\\Users\\\\Shaun Gan\\\\Desktop\\\\bruns-ai\\\\revit\\\\Architectural\\\\Sample of CSV File\\\\Module A12\\\\T-BSP-ARC-OTR-ALL-A12-R00_ModPartMaterialSchedule.csv', 'C:\\\\Users\\\\Shaun Gan\\\\Desktop\\\\bruns-ai\\\\revit\\\\Architectural\\\\Sample of CSV File\\\\Module A12\\\\T-BSP-ARC-OTR-ALL-A12-R00_ModPlumbingFixtSchedule.csv', 'C:\\\\Users\\\\Shaun Gan\\\\Desktop\\\\bruns-ai\\\\revit\\\\Architectural\\\\Sample of CSV File\\\\Module A12\\\\T-BSP-ARC-OTR-ALL-A12-R00_ModWindowSchedule.csv']\n",
      "['C:\\\\Users\\\\Shaun Gan\\\\Desktop\\\\bruns-ai\\\\revit\\\\Architectural\\\\Sample of CSV File\\\\Module A13\\\\T-BSP-ARC-OTR-ALL-A13-R00_ModDoorSchedule.csv', 'C:\\\\Users\\\\Shaun Gan\\\\Desktop\\\\bruns-ai\\\\revit\\\\Architectural\\\\Sample of CSV File\\\\Module A13\\\\T-BSP-ARC-OTR-ALL-A13-R00_ModPartMaterialSchedule.csv']\n",
      "['C:\\\\Users\\\\Shaun Gan\\\\Desktop\\\\bruns-ai\\\\revit\\\\Architectural\\\\Sample of CSV File\\\\Module A14\\\\T-BSP-ARC-OTR-ALL-A14-R00_ModPartMaterialSchedule.csv', 'C:\\\\Users\\\\Shaun Gan\\\\Desktop\\\\bruns-ai\\\\revit\\\\Architectural\\\\Sample of CSV File\\\\Module A14\\\\T-BSP-ARC-OTR-ALL-A14-R00_ModRailingSchedule.csv']\n",
      "['C:\\\\Users\\\\Shaun Gan\\\\Desktop\\\\bruns-ai\\\\revit\\\\Architectural\\\\Sample of CSV File\\\\Module A15\\\\T-BSP-ARC-OTR-ALL-A15-R00_ModPartMaterialSchedule.csv', 'C:\\\\Users\\\\Shaun Gan\\\\Desktop\\\\bruns-ai\\\\revit\\\\Architectural\\\\Sample of CSV File\\\\Module A15\\\\T-BSP-ARC-OTR-ALL-A15-R00_ModRailingSchedule.csv']\n",
      "['C:\\\\Users\\\\Shaun Gan\\\\Desktop\\\\bruns-ai\\\\revit\\\\Architectural\\\\Sample of CSV File\\\\Module A2\\\\T-BSP-ARC-OTR-ALL-A2-R00_ModPartMaterialSchedule.csv', 'C:\\\\Users\\\\Shaun Gan\\\\Desktop\\\\bruns-ai\\\\revit\\\\Architectural\\\\Sample of CSV File\\\\Module A2\\\\T-BSP-ARC-OTR-ALL-A2-R00_ModWindowSchedule.csv']\n",
      "['C:\\\\Users\\\\Shaun Gan\\\\Desktop\\\\bruns-ai\\\\revit\\\\Architectural\\\\Sample of CSV File\\\\Module A3\\\\T-BSP-ARC-OTR-ALL-A3-R00_ModDoorSchedule.csv', 'C:\\\\Users\\\\Shaun Gan\\\\Desktop\\\\bruns-ai\\\\revit\\\\Architectural\\\\Sample of CSV File\\\\Module A3\\\\T-BSP-ARC-OTR-ALL-A3-R00_ModPartMaterialSchedule.csv', 'C:\\\\Users\\\\Shaun Gan\\\\Desktop\\\\bruns-ai\\\\revit\\\\Architectural\\\\Sample of CSV File\\\\Module A3\\\\T-BSP-ARC-OTR-ALL-A3-R00_ModWindowSchedule.csv']\n",
      "['C:\\\\Users\\\\Shaun Gan\\\\Desktop\\\\bruns-ai\\\\revit\\\\Architectural\\\\Sample of CSV File\\\\Module A3b\\\\T-BSP-ARC-OTR-ALL-A3b-R00_ModDoorSchedule.csv', 'C:\\\\Users\\\\Shaun Gan\\\\Desktop\\\\bruns-ai\\\\revit\\\\Architectural\\\\Sample of CSV File\\\\Module A3b\\\\T-BSP-ARC-OTR-ALL-A3b-R00_ModPartMaterialSchedule.csv', 'C:\\\\Users\\\\Shaun Gan\\\\Desktop\\\\bruns-ai\\\\revit\\\\Architectural\\\\Sample of CSV File\\\\Module A3b\\\\T-BSP-ARC-OTR-ALL-A3b-R00_ModWindowSchedule.csv']\n",
      "['C:\\\\Users\\\\Shaun Gan\\\\Desktop\\\\bruns-ai\\\\revit\\\\Architectural\\\\Sample of CSV File\\\\Module A4\\\\T-BSP-ARC-OTR-ALL-A4-R00_ModDoorSchedule.csv', 'C:\\\\Users\\\\Shaun Gan\\\\Desktop\\\\bruns-ai\\\\revit\\\\Architectural\\\\Sample of CSV File\\\\Module A4\\\\T-BSP-ARC-OTR-ALL-A4-R00_ModPartMaterialSchedule.csv', 'C:\\\\Users\\\\Shaun Gan\\\\Desktop\\\\bruns-ai\\\\revit\\\\Architectural\\\\Sample of CSV File\\\\Module A4\\\\T-BSP-ARC-OTR-ALL-A4-R00_ModWindowSchedule.csv']\n",
      "['C:\\\\Users\\\\Shaun Gan\\\\Desktop\\\\bruns-ai\\\\revit\\\\Architectural\\\\Sample of CSV File\\\\Module A5\\\\T-BSP-ARC-OTR-ALL-A5-R00_ModDoorSchedule.csv', 'C:\\\\Users\\\\Shaun Gan\\\\Desktop\\\\bruns-ai\\\\revit\\\\Architectural\\\\Sample of CSV File\\\\Module A5\\\\T-BSP-ARC-OTR-ALL-A5-R00_ModPartMaterialSchedule.csv', 'C:\\\\Users\\\\Shaun Gan\\\\Desktop\\\\bruns-ai\\\\revit\\\\Architectural\\\\Sample of CSV File\\\\Module A5\\\\T-BSP-ARC-OTR-ALL-A5-R00_ModWindowSchedule.csv']\n",
      "['C:\\\\Users\\\\Shaun Gan\\\\Desktop\\\\bruns-ai\\\\revit\\\\Architectural\\\\Sample of CSV File\\\\Module A7\\\\T-BSP-ARC-OTR-ALL-A7-R00_ModDoorSchedule.csv', 'C:\\\\Users\\\\Shaun Gan\\\\Desktop\\\\bruns-ai\\\\revit\\\\Architectural\\\\Sample of CSV File\\\\Module A7\\\\T-BSP-ARC-OTR-ALL-A7-R00_ModPartMaterialSchedule.csv', 'C:\\\\Users\\\\Shaun Gan\\\\Desktop\\\\bruns-ai\\\\revit\\\\Architectural\\\\Sample of CSV File\\\\Module A7\\\\T-BSP-ARC-OTR-ALL-A7-R00_ModWindowSchedule.csv']\n",
      "['C:\\\\Users\\\\Shaun Gan\\\\Desktop\\\\bruns-ai\\\\revit\\\\Architectural\\\\Sample of CSV File\\\\Module A7a\\\\T-BSP-ARC-OTR-ALL-A7a-R00_ModDoorSchedule.csv', 'C:\\\\Users\\\\Shaun Gan\\\\Desktop\\\\bruns-ai\\\\revit\\\\Architectural\\\\Sample of CSV File\\\\Module A7a\\\\T-BSP-ARC-OTR-ALL-A7a-R00_ModPartMaterialSchedule.csv', 'C:\\\\Users\\\\Shaun Gan\\\\Desktop\\\\bruns-ai\\\\revit\\\\Architectural\\\\Sample of CSV File\\\\Module A7a\\\\T-BSP-ARC-OTR-ALL-A7a-R00_ModWindowSchedule.csv']\n",
      "['C:\\\\Users\\\\Shaun Gan\\\\Desktop\\\\bruns-ai\\\\revit\\\\Architectural\\\\Sample of CSV File\\\\Module A8\\\\T-BSP-ARC-OTR-ALL-A8-R00_ModPartMaterialSchedule.csv', 'C:\\\\Users\\\\Shaun Gan\\\\Desktop\\\\bruns-ai\\\\revit\\\\Architectural\\\\Sample of CSV File\\\\Module A8\\\\T-BSP-ARC-OTR-ALL-A8-R00_ModRailingSchedule.csv']\n",
      "['C:\\\\Users\\\\Shaun Gan\\\\Desktop\\\\bruns-ai\\\\revit\\\\Architectural\\\\Sample of CSV File\\\\Module A9\\\\T-BSP-ARC-OTR-ALL-A9-R00_ModDoorSchedule.csv', 'C:\\\\Users\\\\Shaun Gan\\\\Desktop\\\\bruns-ai\\\\revit\\\\Architectural\\\\Sample of CSV File\\\\Module A9\\\\T-BSP-ARC-OTR-ALL-A9-R00_ModPartMaterialSchedule.csv', 'C:\\\\Users\\\\Shaun Gan\\\\Desktop\\\\bruns-ai\\\\revit\\\\Architectural\\\\Sample of CSV File\\\\Module A9\\\\T-BSP-ARC-OTR-ALL-A9-R00_ModWindowSchedule.csv']\n"
     ]
    }
   ],
   "source": [
    "\n",
    "\n",
    "for module in modules_architectural:\n",
    "    schedule_directory = module + \"\\\\*.csv\"\n",
    "    schedules = glob.glob(schedule_directory)\n",
    "    \n",
    "#     print(schedules)"
   ]
  },
  {
   "cell_type": "code",
   "execution_count": 31,
   "metadata": {},
   "outputs": [
    {
     "data": {
      "text/plain": [
       "'C:\\\\Users\\\\Shaun Gan\\\\Desktop\\\\bruns-ai\\\\revit\\\\Architectural\\\\Sample of CSV File\\\\C:\\\\Users\\\\Shaun Gan\\\\Desktop\\\\bruns-ai\\\\revit\\\\Architectural\\\\Sample of CSV File\\\\Module A9\\\\*.csv'"
      ]
     },
     "execution_count": 31,
     "metadata": {},
     "output_type": "execute_result"
    }
   ],
   "source": [
    "schedule_directory"
   ]
  },
  {
   "cell_type": "code",
   "execution_count": 18,
   "metadata": {},
   "outputs": [
    {
     "data": {
      "text/plain": [
       "['C:\\\\Users\\\\Shaun Gan\\\\Desktop\\\\bruns-ai\\\\revit\\\\Architectural',\n",
       " 'C:\\\\Users\\\\Shaun Gan\\\\Desktop\\\\bruns-ai\\\\revit\\\\Material List Categorisation.xlsx',\n",
       " 'C:\\\\Users\\\\Shaun Gan\\\\Desktop\\\\bruns-ai\\\\revit\\\\Structural']"
      ]
     },
     "execution_count": 18,
     "metadata": {},
     "output_type": "execute_result"
    }
   ],
   "source": [
    "schedules"
   ]
  }
 ],
 "metadata": {
  "kernelspec": {
   "display_name": "Python 3",
   "language": "python",
   "name": "python3"
  },
  "language_info": {
   "codemirror_mode": {
    "name": "ipython",
    "version": 3
   },
   "file_extension": ".py",
   "mimetype": "text/x-python",
   "name": "python",
   "nbconvert_exporter": "python",
   "pygments_lexer": "ipython3",
   "version": "3.8.3"
  }
 },
 "nbformat": 4,
 "nbformat_minor": 4
}
